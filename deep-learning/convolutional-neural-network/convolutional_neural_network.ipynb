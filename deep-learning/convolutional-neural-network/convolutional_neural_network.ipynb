{
 "cells": [
  {
   "cell_type": "markdown",
   "metadata": {
    "colab_type": "text",
    "id": "3DR-eO17geWu"
   },
   "source": [
    "# Convolutional Neural Network"
   ]
  },
  {
   "cell_type": "markdown",
   "metadata": {
    "colab_type": "text",
    "id": "EMefrVPCg-60"
   },
   "source": [
    "### Importing the libraries"
   ]
  },
  {
   "cell_type": "code",
   "execution_count": 1,
   "metadata": {
    "colab": {},
    "colab_type": "code",
    "id": "sCV30xyVhFbE"
   },
   "outputs": [],
   "source": [
    "import tensorflow as tf\n",
    "from keras.preprocessing.image import ImageDataGenerator"
   ]
  },
  {
   "cell_type": "code",
   "execution_count": 2,
   "metadata": {
    "colab": {},
    "colab_type": "code",
    "id": "FIleuCAjoFD8"
   },
   "outputs": [
    {
     "data": {
      "text/plain": [
       "'2.5.0'"
      ]
     },
     "execution_count": 2,
     "metadata": {},
     "output_type": "execute_result"
    }
   ],
   "source": [
    "tf.__version__"
   ]
  },
  {
   "cell_type": "markdown",
   "metadata": {
    "colab_type": "text",
    "id": "oxQxCBWyoGPE"
   },
   "source": [
    "## Part 1 - Data Preprocessing"
   ]
  },
  {
   "cell_type": "markdown",
   "metadata": {
    "colab_type": "text",
    "id": "MvE-heJNo3GG"
   },
   "source": [
    "### Preprocessing the Training set"
   ]
  },
  {
   "cell_type": "code",
   "execution_count": 3,
   "metadata": {
    "colab": {},
    "colab_type": "code",
    "id": "0koUcJMJpEBD"
   },
   "outputs": [
    {
     "name": "stdout",
     "output_type": "stream",
     "text": [
      "Found 8000 images belonging to 2 classes.\n"
     ]
    }
   ],
   "source": [
    "train_datagen = ImageDataGenerator(rescale = 1./255,\n",
    "                                   shear_range = 0.2,\n",
    "                                   zoom_range = 0.2,\n",
    "                                   horizontal_flip = True)\n",
    "training_set = train_datagen.flow_from_directory('dataset/training_set',\n",
    "                                                 target_size = (64, 64), ##final size of img fed to cnn\n",
    "                                                 batch_size = 32,\n",
    "                                                 class_mode = 'binary')"
   ]
  },
  {
   "cell_type": "markdown",
   "metadata": {
    "colab_type": "text",
    "id": "mrCMmGw9pHys"
   },
   "source": [
    "### Preprocessing the Test set"
   ]
  },
  {
   "cell_type": "code",
   "execution_count": 4,
   "metadata": {
    "colab": {},
    "colab_type": "code",
    "id": "SH4WzfOhpKc3"
   },
   "outputs": [
    {
     "name": "stdout",
     "output_type": "stream",
     "text": [
      "Found 2000 images belonging to 2 classes.\n"
     ]
    }
   ],
   "source": [
    "# like fit to test set, same feature scaling like on training set \n",
    "test_datagen = ImageDataGenerator(rescale = 1./255)\n",
    "test_set = test_datagen.flow_from_directory('dataset/test_set',\n",
    "                                            target_size = (64, 64),\n",
    "                                            batch_size = 32,\n",
    "                                            class_mode = 'binary')"
   ]
  },
  {
   "cell_type": "markdown",
   "metadata": {
    "colab_type": "text",
    "id": "af8O4l90gk7B"
   },
   "source": [
    "## Part 2 - Building the CNN"
   ]
  },
  {
   "cell_type": "markdown",
   "metadata": {
    "colab_type": "text",
    "id": "ces1gXY2lmoX"
   },
   "source": [
    "### Initialising the CNN"
   ]
  },
  {
   "cell_type": "code",
   "execution_count": 5,
   "metadata": {
    "colab": {},
    "colab_type": "code",
    "id": "SAUt4UMPlhLS"
   },
   "outputs": [],
   "source": [
    "cnn = tf.keras.models.Sequential()"
   ]
  },
  {
   "cell_type": "markdown",
   "metadata": {
    "colab_type": "text",
    "id": "u5YJj_XMl5LF"
   },
   "source": [
    "### Step 1 - Convolution"
   ]
  },
  {
   "cell_type": "code",
   "execution_count": 6,
   "metadata": {
    "colab": {},
    "colab_type": "code",
    "id": "XPzPrMckl-hV"
   },
   "outputs": [],
   "source": [
    "# no. filters are 32 (classic) , kernel is dim 3x3 of feature detecter ,  rgb = 3, in bw = 1, connecting of input to first layer\n",
    "cnn.add(tf.keras.layers.Conv2D(filters=32, kernel_size=3, activation='relu', input_shape=[64, 64, 3]))"
   ]
  },
  {
   "cell_type": "markdown",
   "metadata": {
    "colab_type": "text",
    "id": "tf87FpvxmNOJ"
   },
   "source": [
    "### Step 2 - Pooling"
   ]
  },
  {
   "cell_type": "code",
   "execution_count": 7,
   "metadata": {
    "colab": {},
    "colab_type": "code",
    "id": "ncpqPl69mOac"
   },
   "outputs": [],
   "source": [
    "#  poolsize is the frame which 2x2, strides are sliding in pixel\n",
    "cnn.add(tf.keras.layers.MaxPool2D(pool_size=2, strides=2))"
   ]
  },
  {
   "cell_type": "markdown",
   "metadata": {
    "colab_type": "text",
    "id": "xaTOgD8rm4mU"
   },
   "source": [
    "### Adding a second convolutional layer"
   ]
  },
  {
   "cell_type": "code",
   "execution_count": 8,
   "metadata": {
    "colab": {},
    "colab_type": "code",
    "id": "i_-FZjn_m8gk"
   },
   "outputs": [],
   "source": [
    "cnn.add(tf.keras.layers.Conv2D(filters=32, kernel_size=3, activation='relu'))\n",
    "cnn.add(tf.keras.layers.MaxPool2D(pool_size=2, strides=2))"
   ]
  },
  {
   "cell_type": "markdown",
   "metadata": {
    "colab_type": "text",
    "id": "tmiEuvTunKfk"
   },
   "source": [
    "### Step 3 - Flattening"
   ]
  },
  {
   "cell_type": "code",
   "execution_count": 9,
   "metadata": {
    "colab": {},
    "colab_type": "code",
    "id": "6AZeOGCvnNZn"
   },
   "outputs": [],
   "source": [
    "# to convert to 1 Dim vector\n",
    "cnn.add(tf.keras.layers.Flatten())"
   ]
  },
  {
   "cell_type": "markdown",
   "metadata": {
    "colab_type": "text",
    "id": "dAoSECOm203v"
   },
   "source": [
    "### Step 4 - Full Connection"
   ]
  },
  {
   "cell_type": "code",
   "execution_count": 10,
   "metadata": {
    "colab": {},
    "colab_type": "code",
    "id": "8GtmUlLd26Nq"
   },
   "outputs": [],
   "source": [
    "# no. of neuron\n",
    "cnn.add(tf.keras.layers.Dense(units=128, activation='relu'))"
   ]
  },
  {
   "cell_type": "markdown",
   "metadata": {
    "colab_type": "text",
    "id": "yTldFvbX28Na"
   },
   "source": [
    "### Step 5 - Output Layer"
   ]
  },
  {
   "cell_type": "code",
   "execution_count": 11,
   "metadata": {
    "colab": {},
    "colab_type": "code",
    "id": "1p_Zj1Mc3Ko_"
   },
   "outputs": [],
   "source": [
    "# 1 cuz we doing binary classification\n",
    "cnn.add(tf.keras.layers.Dense(units=1, activation='sigmoid'))"
   ]
  },
  {
   "cell_type": "markdown",
   "metadata": {
    "colab_type": "text",
    "id": "D6XkI90snSDl"
   },
   "source": [
    "## Part 3 - Training the CNN"
   ]
  },
  {
   "cell_type": "markdown",
   "metadata": {
    "colab_type": "text",
    "id": "vfrFQACEnc6i"
   },
   "source": [
    "### Compiling the CNN"
   ]
  },
  {
   "cell_type": "code",
   "execution_count": 12,
   "metadata": {
    "colab": {},
    "colab_type": "code",
    "id": "NALksrNQpUlJ"
   },
   "outputs": [],
   "source": [
    "cnn.compile(optimizer = 'adam', loss = 'binary_crossentropy', metrics = ['accuracy'])"
   ]
  },
  {
   "cell_type": "markdown",
   "metadata": {
    "colab_type": "text",
    "id": "ehS-v3MIpX2h"
   },
   "source": [
    "### Training the CNN on the Training set and evaluating it on the Test set"
   ]
  },
  {
   "cell_type": "code",
   "execution_count": 13,
   "metadata": {
    "colab": {},
    "colab_type": "code",
    "id": "XUj1W4PJptta"
   },
   "outputs": [
    {
     "name": "stdout",
     "output_type": "stream",
     "text": [
      "Epoch 1/25\n",
      "250/250 [==============================] - 124s 493ms/step - loss: 0.6722 - accuracy: 0.5846 - val_loss: 0.5967 - val_accuracy: 0.6875\n",
      "Epoch 2/25\n",
      "250/250 [==============================] - 60s 239ms/step - loss: 0.5947 - accuracy: 0.6865 - val_loss: 0.5974 - val_accuracy: 0.7020\n",
      "Epoch 3/25\n",
      "250/250 [==============================] - 58s 232ms/step - loss: 0.5538 - accuracy: 0.7144 - val_loss: 0.5258 - val_accuracy: 0.7320\n",
      "Epoch 4/25\n",
      "250/250 [==============================] - 58s 231ms/step - loss: 0.5327 - accuracy: 0.7280 - val_loss: 0.5135 - val_accuracy: 0.7545\n",
      "Epoch 5/25\n",
      "250/250 [==============================] - 61s 243ms/step - loss: 0.5065 - accuracy: 0.7460 - val_loss: 0.4946 - val_accuracy: 0.7600\n",
      "Epoch 6/25\n",
      "250/250 [==============================] - 61s 244ms/step - loss: 0.4896 - accuracy: 0.7646 - val_loss: 0.4765 - val_accuracy: 0.7740\n",
      "Epoch 7/25\n",
      "250/250 [==============================] - 59s 236ms/step - loss: 0.4679 - accuracy: 0.7739 - val_loss: 0.4687 - val_accuracy: 0.7790\n",
      "Epoch 8/25\n",
      "250/250 [==============================] - 56s 225ms/step - loss: 0.4449 - accuracy: 0.7909 - val_loss: 0.4708 - val_accuracy: 0.7775\n",
      "Epoch 9/25\n",
      "250/250 [==============================] - 54s 218ms/step - loss: 0.4371 - accuracy: 0.7949 - val_loss: 0.5132 - val_accuracy: 0.7610\n",
      "Epoch 10/25\n",
      "250/250 [==============================] - 56s 226ms/step - loss: 0.4141 - accuracy: 0.8044 - val_loss: 0.5047 - val_accuracy: 0.7650\n",
      "Epoch 11/25\n",
      "250/250 [==============================] - 55s 218ms/step - loss: 0.4079 - accuracy: 0.8126 - val_loss: 0.4601 - val_accuracy: 0.8030\n",
      "Epoch 12/25\n",
      "250/250 [==============================] - 58s 233ms/step - loss: 0.3875 - accuracy: 0.8223 - val_loss: 0.4512 - val_accuracy: 0.7955\n",
      "Epoch 13/25\n",
      "250/250 [==============================] - 59s 236ms/step - loss: 0.3796 - accuracy: 0.8204 - val_loss: 0.4765 - val_accuracy: 0.7925\n",
      "Epoch 14/25\n",
      "250/250 [==============================] - 59s 236ms/step - loss: 0.3699 - accuracy: 0.8275 - val_loss: 0.4512 - val_accuracy: 0.8075\n",
      "Epoch 15/25\n",
      "250/250 [==============================] - 56s 224ms/step - loss: 0.3494 - accuracy: 0.8426 - val_loss: 0.4941 - val_accuracy: 0.7835\n",
      "Epoch 16/25\n",
      "250/250 [==============================] - 64s 255ms/step - loss: 0.3361 - accuracy: 0.8528 - val_loss: 0.4743 - val_accuracy: 0.7930\n",
      "Epoch 17/25\n",
      "250/250 [==============================] - 58s 232ms/step - loss: 0.3200 - accuracy: 0.8545 - val_loss: 0.4677 - val_accuracy: 0.7980\n",
      "Epoch 18/25\n",
      "250/250 [==============================] - 58s 234ms/step - loss: 0.3074 - accuracy: 0.8652 - val_loss: 0.4995 - val_accuracy: 0.7915\n",
      "Epoch 19/25\n",
      "250/250 [==============================] - 60s 240ms/step - loss: 0.2913 - accuracy: 0.8763 - val_loss: 0.5501 - val_accuracy: 0.7820\n",
      "Epoch 20/25\n",
      "250/250 [==============================] - 57s 227ms/step - loss: 0.2882 - accuracy: 0.8784 - val_loss: 0.4818 - val_accuracy: 0.8110\n",
      "Epoch 21/25\n",
      "250/250 [==============================] - 61s 244ms/step - loss: 0.2830 - accuracy: 0.8830 - val_loss: 0.5452 - val_accuracy: 0.7840\n",
      "Epoch 22/25\n",
      "250/250 [==============================] - 58s 232ms/step - loss: 0.2730 - accuracy: 0.8814 - val_loss: 0.5213 - val_accuracy: 0.8030\n",
      "Epoch 23/25\n",
      "250/250 [==============================] - 60s 242ms/step - loss: 0.2534 - accuracy: 0.8955 - val_loss: 0.5282 - val_accuracy: 0.8065\n",
      "Epoch 24/25\n",
      "250/250 [==============================] - 60s 239ms/step - loss: 0.2493 - accuracy: 0.8989 - val_loss: 0.5216 - val_accuracy: 0.8030\n",
      "Epoch 25/25\n",
      "250/250 [==============================] - 57s 228ms/step - loss: 0.2299 - accuracy: 0.9065 - val_loss: 0.5210 - val_accuracy: 0.8005\n"
     ]
    },
    {
     "data": {
      "text/plain": [
       "<tensorflow.python.keras.callbacks.History at 0x286b5bd8a30>"
      ]
     },
     "execution_count": 13,
     "metadata": {},
     "output_type": "execute_result"
    }
   ],
   "source": [
    "cnn.fit(x = training_set, validation_data = test_set, epochs = 25)"
   ]
  },
  {
   "cell_type": "markdown",
   "metadata": {
    "colab_type": "text",
    "id": "U3PZasO0006Z"
   },
   "source": [
    "## Part 4 - Making a single prediction"
   ]
  },
  {
   "cell_type": "code",
   "execution_count": 16,
   "metadata": {
    "colab": {},
    "colab_type": "code",
    "id": "gsSiWEJY1BPB"
   },
   "outputs": [],
   "source": [
    "import numpy as np\n",
    "from keras.preprocessing import image\n",
    "test_image = image.load_img('dataset/single_prediction/cat_or_dog_2.jpg', target_size = (64, 64))\n",
    "test_image = image.img_to_array(test_image)\n",
    "test_image = np.expand_dims(test_image, axis = 0)\n",
    "result = cnn.predict(test_image)\n",
    "training_set.class_indices\n",
    "if result[0][0] == 1:\n",
    "  prediction = 'dog'\n",
    "else:\n",
    "  prediction = 'cat'"
   ]
  },
  {
   "cell_type": "code",
   "execution_count": 17,
   "metadata": {
    "colab": {},
    "colab_type": "code",
    "id": "ED9KB3I54c1i"
   },
   "outputs": [
    {
     "name": "stdout",
     "output_type": "stream",
     "text": [
      "cat\n"
     ]
    }
   ],
   "source": [
    "print(prediction)"
   ]
  }
 ],
 "metadata": {
  "colab": {
   "collapsed_sections": [],
   "name": "convolutional_neural_network.ipynb",
   "provenance": [],
   "toc_visible": true
  },
  "kernelspec": {
   "display_name": "Python 3",
   "language": "python",
   "name": "python3"
  },
  "language_info": {
   "codemirror_mode": {
    "name": "ipython",
    "version": 3
   },
   "file_extension": ".py",
   "mimetype": "text/x-python",
   "name": "python",
   "nbconvert_exporter": "python",
   "pygments_lexer": "ipython3",
   "version": "3.8.5"
  }
 },
 "nbformat": 4,
 "nbformat_minor": 1
}
